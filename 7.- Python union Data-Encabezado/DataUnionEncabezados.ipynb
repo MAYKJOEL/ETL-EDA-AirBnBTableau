{
 "cells": [
  {
   "cell_type": "markdown",
   "metadata": {},
   "source": [
    "# Uniendo los datos con sus encabezados"
   ]
  },
  {
   "cell_type": "code",
   "execution_count": 1,
   "metadata": {},
   "outputs": [],
   "source": [
    "import pandas as pd"
   ]
  },
  {
   "cell_type": "code",
   "execution_count": 3,
   "metadata": {},
   "outputs": [],
   "source": [
    "# Lee el archivo CalendarAirBnB CSV\n",
    "df1 = pd.read_csv('D:\\\\Disco C.2\\\\SOYHENRY\\\\Course SoyHenrry\\\\Modulos SoyHenry\\\\M5\\\\Proyecto Integrador\\\\2 AirBnB\\\\5.- Data despues del ETL\\\\CalendarAirBnB.csv')\n",
    "\n",
    "# Lee los encabezados CalendarAirBnB CSV\n",
    "dfE1 = pd.read_csv('D:\\\\Disco C.2\\\\SOYHENRY\\\\Course SoyHenrry\\\\Modulos SoyHenry\\\\M5\\\\Proyecto Integrador\\\\2 AirBnB\\\\5.- Data despues del ETL\\\\CalendarAirBnBEncabezado.csv')\n",
    "\n",
    "#como puedo abrir el encabezado le agrego un vacio y lo leo\n",
    "encabezados = dfE1['Unnamed: 0'].tolist()\n",
    "\n",
    "# Asigna encabezados a cada columna\n",
    "df1.columns = encabezados  # Reemplaza con los nombres de tus columnas\n",
    "\n",
    "# Exporta el DataFrame con encabezados a un nuevo archivo CSV\n",
    "df1.to_csv('CalendarAirBnBCE.csv', index=False)  # Index=False evita que se agregue una columna de índice adicional\n"
   ]
  },
  {
   "cell_type": "code",
   "execution_count": 18,
   "metadata": {},
   "outputs": [],
   "source": [
    "# Lee el archivo ListingAirBnB CSV\n",
    "df2 = pd.read_csv('D:\\\\Disco C.2\\\\SOYHENRY\\\\Course SoyHenrry\\\\Modulos SoyHenry\\\\M5\\\\Proyecto Integrador\\\\2 AirBnB\\\\5.- Data despues del ETL\\\\ListingAirBnB.csv')\n",
    "\n",
    "# Lee los encabezados ListingAirBnB CSV\n",
    "dfE2 = pd.read_csv('D:\\\\Disco C.2\\\\SOYHENRY\\\\Course SoyHenrry\\\\Modulos SoyHenry\\\\M5\\\\Proyecto Integrador\\\\2 AirBnB\\\\5.- Data despues del ETL\\\\ListingAirBnBEncabezado.csv')\n",
    "\n",
    "#como puedo abrir el encabezado le agrego un vacio y lo leo\n",
    "encabezados = dfE2['Unnamed: 0'].tolist()\n",
    "\n",
    "# Asigna encabezados a cada columna\n",
    "df2.columns = encabezados  # Reemplaza con los nombres de tus columnas\n",
    "\n",
    "# Exporta el DataFrame con encabezados a un nuevo archivo CSV\n",
    "df2.to_csv('ListingAirBnBCE.csv', index=False)  # Index=False evita que se agregue una columna de índice adicional\n"
   ]
  },
  {
   "cell_type": "code",
   "execution_count": 19,
   "metadata": {},
   "outputs": [],
   "source": [
    "# Lee el archivo ReviewsAirBnB CSV\n",
    "df3 = pd.read_csv('D:\\\\Disco C.2\\\\SOYHENRY\\\\Course SoyHenrry\\\\Modulos SoyHenry\\\\M5\\\\Proyecto Integrador\\\\2 AirBnB\\\\5.- Data despues del ETL\\\\ReviewsAirBnB.csv')\n",
    "\n",
    "# Lee los encabezados ReviewsAirBnB CSV\n",
    "dfE3 = pd.read_csv('D:\\\\Disco C.2\\\\SOYHENRY\\\\Course SoyHenrry\\\\Modulos SoyHenry\\\\M5\\\\Proyecto Integrador\\\\2 AirBnB\\\\5.- Data despues del ETL\\\\ReviewsAirBnBEncabezado.csv')\n",
    "\n",
    "#como puedo abrir el encabezado le agrego un vacio y lo leo\n",
    "encabezados = dfE3['Unnamed: 0'].tolist()\n",
    "\n",
    "# Asigna encabezados a cada columna\n",
    "df3.columns = encabezados  # Reemplaza con los nombres de tus columnas\n",
    "\n",
    "# Exporta el DataFrame con encabezados a un nuevo archivo CSV\n",
    "df3.to_csv('ReviewsAirBnBCE.csv', index=False)  # Index=False evita que se agregue una columna de índice adicional\n"
   ]
  }
 ],
 "metadata": {
  "kernelspec": {
   "display_name": "base",
   "language": "python",
   "name": "python3"
  },
  "language_info": {
   "codemirror_mode": {
    "name": "ipython",
    "version": 3
   },
   "file_extension": ".py",
   "mimetype": "text/x-python",
   "name": "python",
   "nbconvert_exporter": "python",
   "pygments_lexer": "ipython3",
   "version": "3.9.7"
  }
 },
 "nbformat": 4,
 "nbformat_minor": 2
}
